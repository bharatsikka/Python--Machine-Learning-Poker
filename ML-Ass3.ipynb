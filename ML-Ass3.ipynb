{
 "cells": [
  {
   "cell_type": "code",
   "execution_count": 2,
   "metadata": {},
   "outputs": [],
   "source": [
    "from sklearn.datasets import load_wine\n",
    "from sklearn.model_selection import train_test_split\n",
    "wine = load_wine()\n",
    "x_train,x_test,y_train,y_test = train_test_split(wine.data,wine.target, random_state=1204)"
   ]
  },
  {
   "cell_type": "code",
   "execution_count": 3,
   "metadata": {},
   "outputs": [
    {
     "name": "stdout",
     "output_type": "stream",
     "text": [
      "(133, 13)\n",
      "(45, 13)\n"
     ]
    }
   ],
   "source": [
    "print(x_train.shape)\n",
    "print(x_test.shape)"
   ]
  },
  {
   "cell_type": "code",
   "execution_count": 4,
   "metadata": {},
   "outputs": [],
   "source": [
    "from sklearn.preprocessing import MinMaxScaler\n",
    "scaler = MinMaxScaler()"
   ]
  },
  {
   "cell_type": "code",
   "execution_count": 6,
   "metadata": {},
   "outputs": [
    {
     "name": "stdout",
     "output_type": "stream",
     "text": [
      "(133, 13)\n"
     ]
    }
   ],
   "source": [
    "scaler.fit(x_train)\n",
    "x_train_scaled = scaler.transform(x_train)\n",
    "print(x_train_scaled.shape)"
   ]
  },
  {
   "cell_type": "code",
   "execution_count": 7,
   "metadata": {},
   "outputs": [],
   "source": [
    "x_test_scaled = scaler.transform(x_test)"
   ]
  },
  {
   "cell_type": "code",
   "execution_count": 8,
   "metadata": {},
   "outputs": [
    {
     "name": "stdout",
     "output_type": "stream",
     "text": [
      "0.5777777777777777\n"
     ]
    }
   ],
   "source": [
    "from sklearn.svm import SVC\n",
    "svm = SVC(C=100)\n",
    "svm.fit(x_train,y_train)\n",
    "print(svm.score(x_test,y_test))"
   ]
  },
  {
   "cell_type": "markdown",
   "metadata": {},
   "source": [
    "<b>MinMaxScaler Normalisation</b>"
   ]
  },
  {
   "cell_type": "code",
   "execution_count": 9,
   "metadata": {},
   "outputs": [
    {
     "name": "stdout",
     "output_type": "stream",
     "text": [
      "0.9777777777777777\n"
     ]
    }
   ],
   "source": [
    "from sklearn.svm import SVC\n",
    "svm = SVC(C=100)\n",
    "svm.fit(x_train_scaled,y_train)\n",
    "print(svm.score(x_test_scaled,y_test))"
   ]
  },
  {
   "cell_type": "code",
   "execution_count": 15,
   "metadata": {},
   "outputs": [
    {
     "name": "stdout",
     "output_type": "stream",
     "text": [
      "0.9466373626373628\n"
     ]
    }
   ],
   "source": [
    "import numpy as np\n",
    "from sklearn.cross_validation import cross_val_score\n",
    "scores = cross_val_score(svm,x_train_scaled,y_train,cv=5)\n",
    "print(np.mean(scores))"
   ]
  },
  {
   "cell_type": "markdown",
   "metadata": {},
   "source": [
    "Answer 4: <u>Test score is better than the CV score</u>"
   ]
  },
  {
   "cell_type": "code",
   "execution_count": 18,
   "metadata": {},
   "outputs": [],
   "source": [
    "from sklearn.preprocessing import StandardScaler\n",
    "standardscaler = StandardScaler()"
   ]
  },
  {
   "cell_type": "markdown",
   "metadata": {},
   "source": [
    "<b>Standard Scaler Normalisation:</b>"
   ]
  },
  {
   "cell_type": "code",
   "execution_count": 31,
   "metadata": {},
   "outputs": [
    {
     "name": "stdout",
     "output_type": "stream",
     "text": [
      "1.0\n"
     ]
    }
   ],
   "source": [
    "standardscaler.fit(x_train)\n",
    "x_train_stanscaled = standardscaler.transform(x_train)\n",
    "x_test_stanscaled = standardscaler.transform(x_test)\n",
    "svmstan = SVC(C=100)\n",
    "svmstan.fit(x_train_stanscaled,y_train)\n",
    "print(svmstan.score(x_test_stanscaled,y_test))"
   ]
  },
  {
   "cell_type": "markdown",
   "metadata": {},
   "source": [
    "<b>RobustScaler Normalisation</b>"
   ]
  },
  {
   "cell_type": "code",
   "execution_count": 32,
   "metadata": {},
   "outputs": [
    {
     "name": "stdout",
     "output_type": "stream",
     "text": [
      "1.0\n"
     ]
    }
   ],
   "source": [
    "from sklearn.preprocessing import RobustScaler\n",
    "robustscaler = RobustScaler()\n",
    "robustscaler.fit(x_train)\n",
    "x_train_robustscaled = robustscaler.transform(x_train)\n",
    "x_test_robustscaled = robustscaler.transform(x_test)\n",
    "svmrobust = SVC(C=100)\n",
    "svmrobust.fit(x_train_robustscaled,y_train)\n",
    "print(svmrobust.score(x_test_robustscaled,y_test))"
   ]
  },
  {
   "cell_type": "markdown",
   "metadata": {},
   "source": [
    "<b>Normalizer Normalisation</b>"
   ]
  },
  {
   "cell_type": "code",
   "execution_count": 33,
   "metadata": {},
   "outputs": [
    {
     "name": "stdout",
     "output_type": "stream",
     "text": [
      "0.6\n"
     ]
    }
   ],
   "source": [
    "from sklearn.preprocessing import Normalizer\n",
    "normscaler = Normalizer()\n",
    "normscaler.fit(x_train)\n",
    "x_train_normscaled = normscaler.transform(x_train)\n",
    "x_test_normscaled = normscaler.transform(x_test)\n",
    "svmnorm = SVC(C=100)\n",
    "svmnorm.fit(x_train_normscaled,y_train)\n",
    "print(svmnorm.score(x_test_normscaled,y_test))"
   ]
  },
  {
   "cell_type": "code",
   "execution_count": 25,
   "metadata": {},
   "outputs": [],
   "source": [
    "param_grid = {'C':[0.001,0.01,0.1,1,10,100],'gamma':[0.001,0.01,0.1,1,10,100]}"
   ]
  },
  {
   "cell_type": "code",
   "execution_count": 26,
   "metadata": {},
   "outputs": [],
   "source": [
    "from sklearn.model_selection import GridSearchCV\n",
    "grid_search = GridSearchCV(SVC(),param_grid,cv=5)"
   ]
  },
  {
   "cell_type": "code",
   "execution_count": 27,
   "metadata": {},
   "outputs": [
    {
     "data": {
      "text/plain": [
       "0.7777777777777778"
      ]
     },
     "execution_count": 27,
     "metadata": {},
     "output_type": "execute_result"
    }
   ],
   "source": [
    "grid_search.fit(x_train,y_train)\n",
    "grid_search.score(x_test,y_test)"
   ]
  },
  {
   "cell_type": "code",
   "execution_count": 28,
   "metadata": {},
   "outputs": [
    {
     "name": "stdout",
     "output_type": "stream",
     "text": [
      "{'C': 100, 'gamma': 0.001}\n",
      "0.7669172932330827\n"
     ]
    }
   ],
   "source": [
    "print(grid_search.best_params_)\n",
    "print(grid_search.best_score_)"
   ]
  },
  {
   "cell_type": "code",
   "execution_count": 38,
   "metadata": {},
   "outputs": [
    {
     "name": "stdout",
     "output_type": "stream",
     "text": [
      "1.0\n"
     ]
    }
   ],
   "source": [
    "standardscaler.fit(x_train)\n",
    "x_train_stanscaled = standardscaler.transform(x_train)\n",
    "x_test_stanscaled = standardscaler.transform(x_test)\n",
    "svmstan = SVC(C=100,gamma=0.001)\n",
    "svmstan.fit(x_train_stanscaled,y_train)\n",
    "print(svmstan.score(x_test_stanscaled,y_test))"
   ]
  },
  {
   "cell_type": "code",
   "execution_count": 37,
   "metadata": {},
   "outputs": [
    {
     "name": "stdout",
     "output_type": "stream",
     "text": [
      "0.4222222222222222\n"
     ]
    }
   ],
   "source": [
    "from sklearn.preprocessing import Normalizer\n",
    "normscaler = Normalizer()\n",
    "normscaler.fit(x_train)\n",
    "x_train_normscaled = normscaler.transform(x_train)\n",
    "x_test_normscaled = normscaler.transform(x_test)\n",
    "svmnorm = SVC(C=100,gamma=0.001)\n",
    "svmnorm.fit(x_train_normscaled,y_train)\n",
    "print(svmnorm.score(x_test_normscaled,y_test))"
   ]
  },
  {
   "cell_type": "code",
   "execution_count": 39,
   "metadata": {},
   "outputs": [
    {
     "name": "stdout",
     "output_type": "stream",
     "text": [
      "1.0\n"
     ]
    }
   ],
   "source": [
    "from sklearn.preprocessing import RobustScaler\n",
    "robustscaler = RobustScaler()\n",
    "robustscaler.fit(x_train)\n",
    "x_train_robustscaled = robustscaler.transform(x_train)\n",
    "x_test_robustscaled = robustscaler.transform(x_test)\n",
    "svmrobust = SVC(C=100,gamma=0.001)\n",
    "svmrobust.fit(x_train_robustscaled,y_train)\n",
    "print(svmrobust.score(x_test_robustscaled,y_test))"
   ]
  },
  {
   "cell_type": "code",
   "execution_count": 40,
   "metadata": {},
   "outputs": [],
   "source": [
    "prediction = grid_search.predict(x_test)"
   ]
  },
  {
   "cell_type": "code",
   "execution_count": 41,
   "metadata": {
    "scrolled": true
   },
   "outputs": [
    {
     "data": {
      "text/plain": [
       "array([1, 1, 0, 1, 2, 1, 1, 0, 0, 2, 2, 0, 2, 2, 2, 1, 0, 1, 2, 1, 0, 1,\n",
       "       1, 1, 1, 1, 2, 2, 2, 0, 1, 0, 1, 0, 0, 2, 2, 2, 0, 0, 0, 0, 2, 2,\n",
       "       2])"
      ]
     },
     "execution_count": 41,
     "metadata": {},
     "output_type": "execute_result"
    }
   ],
   "source": [
    "prediction"
   ]
  },
  {
   "cell_type": "code",
   "execution_count": 44,
   "metadata": {},
   "outputs": [
    {
     "name": "stdout",
     "output_type": "stream",
     "text": [
      "0.7777777777777778\n"
     ]
    }
   ],
   "source": [
    "errorrate = np.mean(prediction!=y_test)\n",
    "accuracy = (1-errorrate)\n",
    "print(accuracy)"
   ]
  },
  {
   "cell_type": "code",
   "execution_count": 16,
   "metadata": {},
   "outputs": [],
   "source": [
    "from sklearn.preprocessing import Normalizer\n",
    "from sklearn.pipeline import Pipeline\n",
    "from sklearn.pipeline  import make_pipeline\n",
    "from sklearn.preprocessing import MinMaxScaler\n",
    "from sklearn.preprocessing import RobustScaler\n",
    "from sklearn.preprocessing import StandardScaler\n",
    "from sklearn.svm import SVC "
   ]
  },
  {
   "cell_type": "code",
   "execution_count": 23,
   "metadata": {},
   "outputs": [],
   "source": [
    "pipe1 = make_pipeline(MinMaxScaler(), SVC())"
   ]
  },
  {
   "cell_type": "code",
   "execution_count": 24,
   "metadata": {},
   "outputs": [],
   "source": [
    "from sklearn.datasets import load_wine\n",
    "from sklearn.model_selection import train_test_split\n",
    "wine = load_wine()\n",
    "x_train,x_test,y_train,y_test = train_test_split(wine.data,wine.target,random_state=1204)"
   ]
  },
  {
   "cell_type": "code",
   "execution_count": 26,
   "metadata": {},
   "outputs": [
    {
     "name": "stdout",
     "output_type": "stream",
     "text": [
      "0.9777777777777777\n"
     ]
    }
   ],
   "source": [
    "pipe1.fit(x_train,y_train)\n",
    "print(pipe1.score(x_test,y_test))"
   ]
  },
  {
   "cell_type": "code",
   "execution_count": 27,
   "metadata": {},
   "outputs": [
    {
     "name": "stdout",
     "output_type": "stream",
     "text": [
      "1.0\n"
     ]
    }
   ],
   "source": [
    "pipe2 = make_pipeline(StandardScaler(), SVC())\n",
    "pipe2.fit(x_train,y_train)\n",
    "print(pipe2.score(x_test,y_test))"
   ]
  },
  {
   "cell_type": "code",
   "execution_count": 37,
   "metadata": {},
   "outputs": [
    {
     "name": "stdout",
     "output_type": "stream",
     "text": [
      "1.0\n"
     ]
    }
   ],
   "source": [
    "pipe3 = make_pipeline(RobustScaler(), SVC())\n",
    "pipe3.fit(x_train,y_train)\n",
    "print(pipe3.score(x_test,y_test))"
   ]
  },
  {
   "cell_type": "code",
   "execution_count": 38,
   "metadata": {},
   "outputs": [
    {
     "name": "stdout",
     "output_type": "stream",
     "text": [
      "0.4222222222222222\n"
     ]
    }
   ],
   "source": [
    "pipe4 = make_pipeline(Normalizer(), SVC())\n",
    "pipe4.fit(x_train,y_train)\n",
    "print(pipe4.score(x_test,y_test))"
   ]
  },
  {
   "cell_type": "markdown",
   "metadata": {},
   "source": [
    "# MinMaxScaler"
   ]
  },
  {
   "cell_type": "code",
   "execution_count": 54,
   "metadata": {},
   "outputs": [
    {
     "name": "stdout",
     "output_type": "stream",
     "text": [
      "best cv score 0.9849624060150376\n",
      "best score 1.0\n",
      "best parameters {'svc__C': 1, 'svc__gamma': 1}\n"
     ]
    }
   ],
   "source": [
    "from sklearn.model_selection import GridSearchCV\n",
    "param_grid = {'svc__C':[0.01,0.1,1,10,100],'svc__gamma':[0.001,0.01,0.1,1,10,100]}\n",
    "grid1 = GridSearchCV(pipe1,param_grid=param_grid,cv=5)\n",
    "grid1.fit(x_train,y_train)\n",
    "print(\"best cv score\", grid1.best_score_)\n",
    "print(\"best score\", grid1.score(x_test,y_test))\n",
    "print(\"best parameters\", grid1.best_params_)"
   ]
  },
  {
   "cell_type": "code",
   "execution_count": 55,
   "metadata": {},
   "outputs": [
    {
     "name": "stdout",
     "output_type": "stream",
     "text": [
      "Test Labels are: [1 2 0 1 2 1 2 0 1 2 2 0 2 2 1 1 0 1 1 1 1 1 1 1 1 1 1 1 0 0 1 0 1 0 0 2 2\n",
      " 2 0 0 0 2 2 2 2]\n",
      "Accuracy of test set:  100.0\n"
     ]
    }
   ],
   "source": [
    "import numpy as np\n",
    "predict1 = grid1.predict(x_test)\n",
    "print(\"Test Labels are:\", predict1)\n",
    "print(\"Accuracy of test set: \", np.mean(predict1==y_test)*100)"
   ]
  },
  {
   "cell_type": "markdown",
   "metadata": {},
   "source": [
    "# StandardScaler"
   ]
  },
  {
   "cell_type": "code",
   "execution_count": 56,
   "metadata": {},
   "outputs": [
    {
     "name": "stdout",
     "output_type": "stream",
     "text": [
      "best cv score 0.9849624060150376\n",
      "best score 1.0\n",
      "best parameters {'svc__C': 1, 'svc__gamma': 0.1}\n"
     ]
    }
   ],
   "source": [
    "from sklearn.model_selection import GridSearchCV\n",
    "param_grid = {'svc__C':[0.01,0.1,1,10,100],'svc__gamma':[0.001,0.01,0.1,1,10,100]}\n",
    "grid2 = GridSearchCV(pipe2,param_grid=param_grid,cv=5)\n",
    "grid2.fit(x_train,y_train)\n",
    "print(\"best cv score\", grid2.best_score_)\n",
    "print(\"best score\", grid2.score(x_test,y_test))\n",
    "print(\"best parameters\", grid2.best_params_)"
   ]
  },
  {
   "cell_type": "code",
   "execution_count": 57,
   "metadata": {},
   "outputs": [
    {
     "name": "stdout",
     "output_type": "stream",
     "text": [
      "Test Labels are: [1 2 0 1 2 1 2 0 1 2 2 0 2 2 1 1 0 1 1 1 1 1 1 1 1 1 1 1 0 0 1 0 1 0 0 2 2\n",
      " 2 0 0 0 2 2 2 2]\n",
      "Accuracy of test set:  100.0\n"
     ]
    }
   ],
   "source": [
    "predict2 = grid2.predict(x_test)\n",
    "print(\"Test Labels are:\", predict2)\n",
    "print(\"Accuracy of test set: \", np.mean(predict2==y_test)*100)"
   ]
  },
  {
   "cell_type": "markdown",
   "metadata": {},
   "source": [
    "# RobustScaler"
   ]
  },
  {
   "cell_type": "code",
   "execution_count": 58,
   "metadata": {},
   "outputs": [
    {
     "name": "stdout",
     "output_type": "stream",
     "text": [
      "best cv score 0.9548872180451128\n",
      "best score 0.9777777777777777\n",
      "best parameters {'svc__C': 1, 'svc__gamma': 0.01}\n"
     ]
    }
   ],
   "source": [
    "from sklearn.model_selection import GridSearchCV\n",
    "param_grid = {'svc__C':[0.01,0.1,1,10,100],'svc__gamma':[0.001,0.01,0.1,1,10,100]}\n",
    "grid3 = GridSearchCV(pipe3,param_grid=param_grid,cv=5)\n",
    "grid3.fit(x_train,y_train)\n",
    "print(\"best cv score\", grid3.best_score_)\n",
    "print(\"best score\", grid3.score(x_test,y_test))\n",
    "print(\"best parameters\", grid3.best_params_)"
   ]
  },
  {
   "cell_type": "code",
   "execution_count": 59,
   "metadata": {},
   "outputs": [
    {
     "name": "stdout",
     "output_type": "stream",
     "text": [
      "Test Labels are: [1 2 0 1 2 1 2 0 1 2 2 0 2 2 1 1 0 1 1 1 0 1 1 1 1 1 1 1 0 0 1 0 1 0 0 2 2\n",
      " 2 0 0 0 2 2 2 2]\n",
      "Accuracy of test set:  97.77777777777777\n"
     ]
    }
   ],
   "source": [
    "predict3 = grid3.predict(x_test)\n",
    "print(\"Test Labels are:\", predict3)\n",
    "print(\"Accuracy of test set: \", np.mean(predict3==y_test)*100)"
   ]
  },
  {
   "cell_type": "markdown",
   "metadata": {},
   "source": [
    "# Naturalizer"
   ]
  },
  {
   "cell_type": "code",
   "execution_count": 60,
   "metadata": {},
   "outputs": [
    {
     "name": "stdout",
     "output_type": "stream",
     "text": [
      "best cv score 0.9172932330827067\n",
      "best score 0.9777777777777777\n",
      "best parameters {'svc__C': 100, 'svc__gamma': 100}\n"
     ]
    }
   ],
   "source": [
    "from sklearn.model_selection import GridSearchCV\n",
    "param_grid = {'svc__C':[0.01,0.1,1,10,100],'svc__gamma':[0.001,0.01,0.1,1,10,100]}\n",
    "grid4 = GridSearchCV(pipe4,param_grid=param_grid,cv=5)\n",
    "grid4.fit(x_train,y_train)\n",
    "print(\"best cv score\", grid4.best_score_)\n",
    "print(\"best score\", grid4.score(x_test,y_test))\n",
    "print(\"best parameters\", grid4.best_params_)"
   ]
  },
  {
   "cell_type": "code",
   "execution_count": 61,
   "metadata": {},
   "outputs": [
    {
     "name": "stdout",
     "output_type": "stream",
     "text": [
      "Test Labels are: [1 2 0 1 2 1 2 0 0 2 2 0 2 2 1 1 0 1 1 1 1 1 1 1 1 1 1 1 0 0 1 0 1 0 0 2 2\n",
      " 2 0 0 0 2 2 2 2]\n",
      "Accuracy of test set:  97.77777777777777\n"
     ]
    }
   ],
   "source": [
    "predict4 = grid4.predict(x_test)\n",
    "print(\"Test Labels are:\", predict4)\n",
    "print(\"Accuracy of test set: \", np.mean(predict4==y_test)*100)"
   ]
  },
  {
   "cell_type": "code",
   "execution_count": 63,
   "metadata": {},
   "outputs": [],
   "source": [
    "import math\n",
    "def dist(x1,x2):\n",
    "    return np.linalg.norm(x1-x2)\n",
    "n_train = x_train.shape[0]\n",
    "n_test = x_test.shape[0]\n",
    "dist_own = math.inf + np.ones(n_train)\n",
    "dist_other = math.inf + np.ones(n_train)\n",
    "for i in range(n_train-1):\n",
    "    for j in range(i+1,n_train):\n",
    "        current_dist = dist(x_train[i],x_train[j])\n",
    "        if y_train[i] == y_train[j]:\n",
    "            if(current_dist<dist_own[i]):\n",
    "                dist_own[i] = current_dist\n",
    "            if(current_dist<dist_own[j]):\n",
    "                dist_own[j] = current_dist\n",
    "        else:\n",
    "            if(current_dist<dist_other[i]):\n",
    "                dist_other[i] = current_dist\n",
    "            if(current_dist<dist_other[j]):\n",
    "                dist_other[j] = current_dist"
   ]
  },
  {
   "cell_type": "code",
   "execution_count": 65,
   "metadata": {},
   "outputs": [],
   "source": [
    "score = np.zeros(n_train+1)\n",
    "p = np.zeros((n_test,3))\n",
    "for j in range(n_test):\n",
    "    for i in range(3):\n",
    "        aug_dist_own = np.append(dist_own,math.inf)\n",
    "        aug_dist_other = np.append(dist_other,math.inf)\n",
    "        for i in range(n_train):\n",
    "            current_dist = dist(x_train[i],x_test[j])\n",
    "            if y_train[i] ==1:\n",
    "                if (current_dist <aug_dist_own[i]):\n",
    "                    aug_dist_own[i] = current_dist\n",
    "                if(current_dist<aug_dist_own[n_train]):\n",
    "                    aug_dist_own[n_train] = current_dist\n",
    "            else:\n",
    "                if(current_dist<aug_dist_other[i]):\n",
    "                    aug_dist_other[i] = current_dist\n",
    "                if(current_dist<aug_dist_other[n_train]):\n",
    "                    aug_dist_other[n_train] = current_dist\n",
    "        for i in range(n_train+1):\n",
    "            if aug_dist_own[i] == 0:\n",
    "                score[i] = math.inf\n",
    "                if(aug_dist_other[i]==0):\n",
    "                    score[i]=0\n",
    "            else:\n",
    "                score[i] = aug_dist_other[i] / aug_dist_own[i]\n",
    "        p[j,1] = np.mean(score<=score[n_train])"
   ]
  },
  {
   "cell_type": "code",
   "execution_count": 68,
   "metadata": {},
   "outputs": [
    {
     "data": {
      "text/plain": [
       "[<matplotlib.lines.Line2D at 0x237c739ee80>]"
      ]
     },
     "execution_count": 68,
     "metadata": {},
     "output_type": "execute_result"
    },
    {
     "data": {
      "image/png": "[encoded data removed]",
      "text/plain": [
       "<Figure size 432x288 with 1 Axes>"
      ]
     },
     "metadata": {
      "needs_background": "light"
     },
     "output_type": "display_data"
    }
   ],
   "source": [
    "import matplotlib.pyplot as plt\n",
    "eps = np.zeros(100)\n",
    "err = np.zeros(100)\n",
    "for k in range(100):\n",
    "    eps[k] = k/100\n",
    "    err[k] = 0\n",
    "    for j in range(n_test):\n",
    "        if(p[j,y_test[j]]<=eps[k]):\n",
    "            err[k] = err[k] +1\n",
    "    err[k] = err[k] /n_test\n",
    "plt.plot(eps,err)"
   ]
  },
  {
   "cell_type": "code",
   "execution_count": null,
   "metadata": {},
   "outputs": [],
   "source": []
  }
 ],
 "metadata": {
  "kernelspec": {
   "display_name": "Python 3",
   "language": "python",
   "name": "python3"
  },
  "language_info": {
   "codemirror_mode": {
    "name": "ipython",
    "version": 3
   },
   "file_extension": ".py",
   "mimetype": "text/x-python",
   "name": "python",
   "nbconvert_exporter": "python",
   "pygments_lexer": "ipython3",
   "version": "3.7.0"
  }
 },
 "nbformat": 4,
 "nbformat_minor": 2
}
