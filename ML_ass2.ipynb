{
 "cells": [
  {
   "cell_type": "code",
   "execution_count": 1,
   "metadata": {},
   "outputs": [],
   "source": [
    "from sklearn.datasets import load_diabetes"
   ]
  },
  {
   "cell_type": "code",
   "execution_count": 2,
   "metadata": {},
   "outputs": [],
   "source": [
    "from sklearn.model_selection import train_test_split\n",
    "diabetes = load_diabetes()\n",
    "X_train, X_test, y_train, y_test = train_test_split(diabetes.data, diabetes.target, random_state=1204)"
   ]
  },
  {
   "cell_type": "code",
   "execution_count": 3,
   "metadata": {},
   "outputs": [],
   "source": [
    "from sklearn.linear_model import Lasso"
   ]
  },
  {
   "cell_type": "code",
   "execution_count": 4,
   "metadata": {},
   "outputs": [
    {
     "data": {
      "text/plain": [
       "0.3448854471156567"
      ]
     },
     "execution_count": 4,
     "metadata": {},
     "output_type": "execute_result"
    }
   ],
   "source": [
    "lasso = Lasso().fit(X_train,y_train)\n",
    "lasso.score(X_train,y_train)"
   ]
  },
  {
   "cell_type": "code",
   "execution_count": 5,
   "metadata": {},
   "outputs": [
    {
     "data": {
      "text/plain": [
       "0.3533273173854683"
      ]
     },
     "execution_count": 5,
     "metadata": {},
     "output_type": "execute_result"
    }
   ],
   "source": [
    "lasso.score(X_test,y_test)"
   ]
  },
  {
   "cell_type": "code",
   "execution_count": 8,
   "metadata": {},
   "outputs": [
    {
     "data": {
      "text/plain": [
       "3"
      ]
     },
     "execution_count": 8,
     "metadata": {},
     "output_type": "execute_result"
    }
   ],
   "source": [
    "import numpy as np\n",
    "np.sum(lasso.coef_ !=0)"
   ]
  },
  {
   "cell_type": "code",
   "execution_count": 9,
   "metadata": {},
   "outputs": [
    {
     "data": {
      "text/plain": [
       "array([  0.        ,  -0.        , 369.2165617 ,  14.89216429,\n",
       "         0.        ,   0.        ,  -0.        ,   0.        ,\n",
       "       271.87172588,   0.        ])"
      ]
     },
     "execution_count": 9,
     "metadata": {},
     "output_type": "execute_result"
    }
   ],
   "source": [
    "lasso.coef_"
   ]
  },
  {
   "cell_type": "code",
   "execution_count": 10,
   "metadata": {},
   "outputs": [
    {
     "data": {
      "text/plain": [
       "['age', 'sex', 'bmi', 'bp', 's1', 's2', 's3', 's4', 's5', 's6']"
      ]
     },
     "execution_count": 10,
     "metadata": {},
     "output_type": "execute_result"
    }
   ],
   "source": [
    "diabetes.feature_names"
   ]
  },
  {
   "cell_type": "markdown",
   "metadata": {},
   "source": [
    "Ans 3:\n",
    "            \n",
    "    Training R^2: 0.3448854471156567\n",
    "    Test R^2: 0.3533273173854683\n",
    "            \n",
    "    This model only uses 3 features namely:\n",
    "        1. 'bmi'\n",
    "        2. 'bp'\n",
    "        3. 's5'"
   ]
  },
  {
   "cell_type": "code",
   "execution_count": 18,
   "metadata": {},
   "outputs": [],
   "source": [
    "X = np.genfromtxt('C:/Users/bhara/OneDrive/Desktop/diabetes.data', usecols=np.arange(10))"
   ]
  },
  {
   "cell_type": "code",
   "execution_count": 19,
   "metadata": {},
   "outputs": [
    {
     "data": {
      "text/plain": [
       "array([[     nan,      nan,      nan,      nan,      nan,      nan,\n",
       "             nan,      nan,      nan,      nan],\n",
       "       [ 59.    ,   2.    ,  32.1   , 101.    , 157.    ,  93.2   ,\n",
       "         38.    ,   4.    ,   4.8598,  87.    ],\n",
       "       [ 48.    ,   1.    ,  21.6   ,  87.    , 183.    , 103.2   ,\n",
       "         70.    ,   3.    ,   3.8918,  69.    ]])"
      ]
     },
     "execution_count": 19,
     "metadata": {},
     "output_type": "execute_result"
    }
   ],
   "source": [
    "X[:3]"
   ]
  },
  {
   "cell_type": "code",
   "execution_count": 20,
   "metadata": {},
   "outputs": [],
   "source": [
    "Y = np.genfromtxt('C:/Users/bhara/OneDrive/Desktop/diabetes.data', usecols=10, dtype = 'int')"
   ]
  },
  {
   "cell_type": "code",
   "execution_count": 14,
   "metadata": {},
   "outputs": [],
   "source": [
    "X=X[1:]\n"
   ]
  },
  {
   "cell_type": "code",
   "execution_count": 21,
   "metadata": {},
   "outputs": [],
   "source": [
    "X1_train, X1_test, y1_train, y1_test = train_test_split(X[1:],Y[1:], random_state=1204)"
   ]
  },
  {
   "cell_type": "code",
   "execution_count": 22,
   "metadata": {},
   "outputs": [
    {
     "data": {
      "text/plain": [
       "0.5036786201378218"
      ]
     },
     "execution_count": 22,
     "metadata": {},
     "output_type": "execute_result"
    }
   ],
   "source": [
    "lasso1 = Lasso().fit(X1_train,y1_train)\n",
    "lasso1.score(X1_train,y1_train)"
   ]
  },
  {
   "cell_type": "code",
   "execution_count": 23,
   "metadata": {},
   "outputs": [
    {
     "data": {
      "text/plain": [
       "0.51874527145387"
      ]
     },
     "execution_count": 23,
     "metadata": {},
     "output_type": "execute_result"
    }
   ],
   "source": [
    "lasso1.score(X1_test,y1_test)"
   ]
  },
  {
   "cell_type": "code",
   "execution_count": 24,
   "metadata": {},
   "outputs": [
    {
     "data": {
      "text/plain": [
       "9"
      ]
     },
     "execution_count": 24,
     "metadata": {},
     "output_type": "execute_result"
    }
   ],
   "source": [
    "np.sum(lasso1.coef_!=0)"
   ]
  },
  {
   "cell_type": "code",
   "execution_count": 32,
   "metadata": {},
   "outputs": [
    {
     "data": {
      "text/plain": [
       "array([-1.79287920e-01, -2.36126640e+01,  6.03675644e+00,  1.10626582e+00,\n",
       "       -6.99830895e-02, -1.86632812e-02, -8.48070776e-01,  0.00000000e+00,\n",
       "        3.74256541e+01,  2.98805332e-01])"
      ]
     },
     "execution_count": 32,
     "metadata": {},
     "output_type": "execute_result"
    }
   ],
   "source": [
    "lasso1.coef_"
   ]
  },
  {
   "cell_type": "markdown",
   "metadata": {},
   "source": [
    "Ans 6:\n",
    "            \n",
    "    Training R^2: 0.5036786201378218\n",
    "    Test R^2: 0.51874527145387\n",
    "            \n",
    "    This model only uses 9 features namely:\n",
    "         1. 'age'\n",
    "         2. 'sex' \n",
    "         3. 'bmi' \n",
    "         4. 'bp'\n",
    "         5. 's1'\n",
    "         6. 's2'\n",
    "         7. 's3'\n",
    "         8. 's4'\n",
    "         9. 's5'\n",
    "            \n",
    "    The scores have significantly changed and even the number of features utilised have increased after loading the dataset."
   ]
  },
  {
   "cell_type": "code",
   "execution_count": 33,
   "metadata": {},
   "outputs": [],
   "source": [
    "from sklearn.preprocessing import StandardScaler\n",
    "scaler = StandardScaler()"
   ]
  },
  {
   "cell_type": "code",
   "execution_count": 34,
   "metadata": {},
   "outputs": [
    {
     "data": {
      "text/plain": [
       "StandardScaler(copy=True, with_mean=True, with_std=True)"
      ]
     },
     "execution_count": 34,
     "metadata": {},
     "output_type": "execute_result"
    }
   ],
   "source": [
    "scaler.fit(X1_train)"
   ]
  },
  {
   "cell_type": "code",
   "execution_count": 35,
   "metadata": {},
   "outputs": [],
   "source": [
    "X1_train_scaled = scaler.transform(X1_train)"
   ]
  },
  {
   "cell_type": "code",
   "execution_count": 36,
   "metadata": {},
   "outputs": [],
   "source": [
    "X1_test_scaled = scaler.transform(X1_test)"
   ]
  },
  {
   "cell_type": "code",
   "execution_count": 37,
   "metadata": {},
   "outputs": [
    {
     "name": "stdout",
     "output_type": "stream",
     "text": [
      "(111, 10)\n"
     ]
    }
   ],
   "source": [
    "print(X1_test_scaled.shape)"
   ]
  },
  {
   "cell_type": "code",
   "execution_count": 232,
   "metadata": {},
   "outputs": [
    {
     "data": {
      "text/plain": [
       "3"
      ]
     },
     "execution_count": 232,
     "metadata": {},
     "output_type": "execute_result"
    }
   ],
   "source": [
    "lasso1 = Lasso(alpha=20, max_iter=100000).fit(X1_train_scaled,y1_train)\n",
    "lasso1.score(X1_train_scaled,y1_train)\n",
    "np.sum(lasso1.coef_!=0)"
   ]
  },
  {
   "cell_type": "code",
   "execution_count": 233,
   "metadata": {},
   "outputs": [
    {
     "data": {
      "text/plain": [
       "0.35759830569329876"
      ]
     },
     "execution_count": 233,
     "metadata": {},
     "output_type": "execute_result"
    }
   ],
   "source": [
    "lasso1.score(X1_train_scaled,y1_train)"
   ]
  },
  {
   "cell_type": "code",
   "execution_count": 234,
   "metadata": {},
   "outputs": [
    {
     "data": {
      "text/plain": [
       "0.36743016694757147"
      ]
     },
     "execution_count": 234,
     "metadata": {},
     "output_type": "execute_result"
    }
   ],
   "source": [
    "lasso1.score(X1_test_scaled,y1_test)"
   ]
  },
  {
   "cell_type": "code",
   "execution_count": 235,
   "metadata": {},
   "outputs": [
    {
     "data": {
      "text/plain": [
       "array([ 0.        , -0.        , 18.18847875,  0.73122707,  0.        ,\n",
       "        0.        , -0.        ,  0.        , 13.67358653,  0.        ])"
      ]
     },
     "execution_count": 235,
     "metadata": {},
     "output_type": "execute_result"
    }
   ],
   "source": [
    "lasso1.coef_"
   ]
  },
  {
   "cell_type": "markdown",
   "metadata": {},
   "source": [
    "Ans 8:\n",
    "     \n",
    "    In this question initially if no alpha values are provided the Lasso score provides values similar to Ques 6 which is:\n",
    "     \n",
    "         Scaled Training R^2: 0.5041554251851361  Ques 6 Training R^2: 0.5036786201378218\n",
    "         Scaled Test R^2: 0.518632529431523       Ques 6 Test R^2: 0.51874527145387\n",
    "         Scaled model uses 8 features namely:     Ques 6 model uses 9 features namely:\n",
    "         1. 'age'                                 1. 'age' \n",
    "         2. 'sex'                                 2. 'sex'       \n",
    "         3. 'bmi'                                 3. 'bmi' \n",
    "         4. 'bp'                                  4. 'bp'\n",
    "         5. 's1'                                  5. 's1'\n",
    "         6. 's3'                                  6. 's2'\n",
    "         7. 's5'                                  7. 's3'\n",
    "         8. 's6'                                  8. 's4'\n",
    "                                                  9. 's5'\n",
    "                                                  \n",
    "    But after adding alpha parameter to 20(very high, as mentioned in the code above), we get similar results to Ques 3. \n",
    "    Which explains, why even after scaling the values too, the scores remain near the unscaled values since alpha values are set to default which is '1.0'. Thereby the expectation is not confirmed untill the alpha parameter is added to the Lasso. \n",
    "        \n",
    "        Scaled Training R^2(alpha=20): 0.35759830569329876  Ques 3 Training R^2: 0.3448854471156567\n",
    "        Scaled Test R^2(alpha=20): 0.36743016694757147      Ques 3 Test R^2: 0.3533273173854683\n",
    "        Scaled model uses 3 features namely:               Ques 3 model uses 9 features namely:\n",
    "         1. 'bmi'                                           1. 'bmi' \n",
    "         2. 'bp'                                            2. 'bp'       \n",
    "         3. 's5'                                            3. 's5' \n"
   ]
  },
  {
   "cell_type": "code",
   "execution_count": 193,
   "metadata": {},
   "outputs": [],
   "source": [
    "a = [ 0.01,0.456,1,2,3,4,10,12,13,14,15]   "
   ]
  },
  {
   "cell_type": "code",
   "execution_count": 194,
   "metadata": {},
   "outputs": [],
   "source": [
    "b= []\n",
    "c=[]\n",
    "for i in a:\n",
    "    lassofull = Lasso(alpha=i,max_iter=100000).fit(X1_train_scaled,y1_train)\n",
    "    b.append(lassofull.score(X1_test_scaled,y1_test))\n",
    "    c.append(np.sum(lassofull.coef_!=0))"
   ]
  },
  {
   "cell_type": "code",
   "execution_count": 196,
   "metadata": {},
   "outputs": [
    {
     "data": {
      "text/plain": [
       "[<matplotlib.lines.Line2D at 0x241361a40b8>]"
      ]
     },
     "execution_count": 196,
     "metadata": {},
     "output_type": "execute_result"
    },
    {
     "data": {
      "image/png": "[encoded data removed]",
      "text/plain": [
       "<Figure size 432x288 with 1 Axes>"
      ]
     },
     "metadata": {
      "needs_background": "light"
     },
     "output_type": "display_data"
    }
   ],
   "source": [
    "plt.plot(c,b)"
   ]
  },
  {
   "cell_type": "markdown",
   "metadata": {},
   "source": [
    "Ans 9:\n",
    "    \n",
    "    The point with the highest value of score and maximum number of features would mean a high accuracy, good enough variance/bias and therefore would be preferable, so in this case the point with \"9 features\" and score of around \"0.52\" would be the most suitable."
   ]
  },
  {
   "cell_type": "code",
   "execution_count": 198,
   "metadata": {},
   "outputs": [],
   "source": [
    "from sklearn.linear_model import LassoCV"
   ]
  },
  {
   "cell_type": "code",
   "execution_count": 199,
   "metadata": {},
   "outputs": [],
   "source": [
    "reg = LassoCV(cv=5,max_iter=100000).fit(X1_train_scaled,y1_train)"
   ]
  },
  {
   "cell_type": "code",
   "execution_count": 200,
   "metadata": {},
   "outputs": [
    {
     "data": {
      "text/plain": [
       "0.044938033989740084"
      ]
     },
     "execution_count": 200,
     "metadata": {},
     "output_type": "execute_result"
    }
   ],
   "source": [
    "reg.alpha_"
   ]
  },
  {
   "cell_type": "code",
   "execution_count": 236,
   "metadata": {},
   "outputs": [
    {
     "data": {
      "text/plain": [
       "0.5119383276369696"
      ]
     },
     "execution_count": 236,
     "metadata": {},
     "output_type": "execute_result"
    }
   ],
   "source": [
    "lassofinal = Lasso(alpha=reg.alpha_,max_iter=100000).fit(X1_train_scaled,y1_train)\n",
    "lassofinal.score(X1_train_scaled,y1_train)"
   ]
  },
  {
   "cell_type": "code",
   "execution_count": 237,
   "metadata": {
    "scrolled": true
   },
   "outputs": [
    {
     "data": {
      "text/plain": [
       "0.5115462078980595"
      ]
     },
     "execution_count": 237,
     "metadata": {},
     "output_type": "execute_result"
    }
   ],
   "source": [
    "lassofinal.score(X1_test_scaled,y1_test)"
   ]
  },
  {
   "cell_type": "code",
   "execution_count": 218,
   "metadata": {},
   "outputs": [
    {
     "data": {
      "text/plain": [
       "10"
      ]
     },
     "execution_count": 218,
     "metadata": {},
     "output_type": "execute_result"
    }
   ],
   "source": [
    "np.sum(lassofinal.coef_!=0)"
   ]
  },
  {
   "cell_type": "markdown",
   "metadata": {},
   "source": [
    "Ans 10:\n",
    "    \n",
    "    The resulting R^2 score after getting the alpha parameter(0.044938033989740084) from cross validation are:\n",
    "        Training R^2: 0.5119383276369696\n",
    "            Test R^2: 0.5115462078980595\n",
    "            \n",
    "    After the applying the alpha parameter from cross validation we get all the \"10\" features utilised, which actually presents an almost ideal presentation with high R^2 and all parameter utilisation."
   ]
  },
  {
   "cell_type": "code",
   "execution_count": null,
   "metadata": {},
   "outputs": [],
   "source": []
  }
 ],
 "metadata": {
  "kernelspec": {
   "display_name": "Python 3",
   "language": "python",
   "name": "python3"
  },
  "language_info": {
   "codemirror_mode": {
    "name": "ipython",
    "version": 3
   },
   "file_extension": ".py",
   "mimetype": "text/x-python",
   "name": "python",
   "nbconvert_exporter": "python",
   "pygments_lexer": "ipython3",
   "version": "3.7.0"
  }
 },
 "nbformat": 4,
 "nbformat_minor": 2
}
